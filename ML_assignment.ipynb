{
  "nbformat": 4,
  "nbformat_minor": 0,
  "metadata": {
    "kernelspec": {
      "display_name": "Python 3",
      "language": "python",
      "name": "python3"
    },
    "language_info": {
      "codemirror_mode": {
        "name": "ipython",
        "version": 3
      },
      "file_extension": ".py",
      "mimetype": "text/x-python",
      "name": "python",
      "nbconvert_exporter": "python",
      "pygments_lexer": "ipython3",
      "version": "3.8.5"
    },
    "colab": {
      "name": "ML_assignment.ipynb",
      "provenance": []
    }
  },
  "cells": [
    {
      "cell_type": "code",
      "metadata": {
        "id": "GZ8zUHwxDLib"
      },
      "source": [
        "#importing the needed packages\n",
        "import pandas as pd\n",
        "import numpy as np\n",
        "from sklearn.decomposition import PCA"
      ],
      "execution_count": 10,
      "outputs": []
    },
    {
      "cell_type": "code",
      "metadata": {
        "colab": {
          "base_uri": "https://localhost:8080/",
          "height": 275
        },
        "id": "1C7LhVwgDLic",
        "outputId": "ca55cbbb-f039-4c43-e863-3d9c9e2ccff4"
      },
      "source": [
        "#loading the dataset\n",
        "\n",
        "data=pd.DataFrame(pd.read_csv(\"MoviesData.csv\"))\n",
        "\n",
        "data.head()"
      ],
      "execution_count": 11,
      "outputs": [
        {
          "output_type": "execute_result",
          "data": {
            "text/html": [
              "<div>\n",
              "<style scoped>\n",
              "    .dataframe tbody tr th:only-of-type {\n",
              "        vertical-align: middle;\n",
              "    }\n",
              "\n",
              "    .dataframe tbody tr th {\n",
              "        vertical-align: top;\n",
              "    }\n",
              "\n",
              "    .dataframe thead th {\n",
              "        text-align: right;\n",
              "    }\n",
              "</style>\n",
              "<table border=\"1\" class=\"dataframe\">\n",
              "  <thead>\n",
              "    <tr style=\"text-align: right;\">\n",
              "      <th></th>\n",
              "      <th>Titles</th>\n",
              "      <th>Rating</th>\n",
              "      <th>RTCritic</th>\n",
              "      <th>RTFan</th>\n",
              "      <th>IMDb</th>\n",
              "      <th>Metacritic</th>\n",
              "      <th>BoxOffice</th>\n",
              "      <th>Year</th>\n",
              "      <th>Action</th>\n",
              "      <th>Animation</th>\n",
              "      <th>Family</th>\n",
              "      <th>Scifi</th>\n",
              "      <th>Comedy</th>\n",
              "      <th>Drama</th>\n",
              "      <th>International</th>\n",
              "      <th>Romance</th>\n",
              "      <th>Horror</th>\n",
              "      <th>Mystery</th>\n",
              "      <th>Documentary</th>\n",
              "    </tr>\n",
              "  </thead>\n",
              "  <tbody>\n",
              "    <tr>\n",
              "      <th>0</th>\n",
              "      <td>Treasure Planet</td>\n",
              "      <td>PG</td>\n",
              "      <td>69</td>\n",
              "      <td>70</td>\n",
              "      <td>7.1</td>\n",
              "      <td>60</td>\n",
              "      <td>38120554</td>\n",
              "      <td>2002</td>\n",
              "      <td>1</td>\n",
              "      <td>1</td>\n",
              "      <td>1</td>\n",
              "      <td>1</td>\n",
              "      <td>0</td>\n",
              "      <td>0</td>\n",
              "      <td>0</td>\n",
              "      <td>0</td>\n",
              "      <td>0</td>\n",
              "      <td>0</td>\n",
              "      <td>0</td>\n",
              "    </tr>\n",
              "    <tr>\n",
              "      <th>1</th>\n",
              "      <td>About Schmidt</td>\n",
              "      <td>R</td>\n",
              "      <td>85</td>\n",
              "      <td>74</td>\n",
              "      <td>7.2</td>\n",
              "      <td>85</td>\n",
              "      <td>65005217</td>\n",
              "      <td>2002</td>\n",
              "      <td>0</td>\n",
              "      <td>0</td>\n",
              "      <td>0</td>\n",
              "      <td>0</td>\n",
              "      <td>1</td>\n",
              "      <td>1</td>\n",
              "      <td>0</td>\n",
              "      <td>0</td>\n",
              "      <td>0</td>\n",
              "      <td>0</td>\n",
              "      <td>0</td>\n",
              "    </tr>\n",
              "    <tr>\n",
              "      <th>2</th>\n",
              "      <td>Secretary</td>\n",
              "      <td>R</td>\n",
              "      <td>76</td>\n",
              "      <td>82</td>\n",
              "      <td>7.0</td>\n",
              "      <td>63</td>\n",
              "      <td>4046737</td>\n",
              "      <td>2002</td>\n",
              "      <td>0</td>\n",
              "      <td>0</td>\n",
              "      <td>0</td>\n",
              "      <td>0</td>\n",
              "      <td>1</td>\n",
              "      <td>1</td>\n",
              "      <td>1</td>\n",
              "      <td>1</td>\n",
              "      <td>0</td>\n",
              "      <td>0</td>\n",
              "      <td>0</td>\n",
              "    </tr>\n",
              "    <tr>\n",
              "      <th>3</th>\n",
              "      <td>Irreversible</td>\n",
              "      <td>NR</td>\n",
              "      <td>57</td>\n",
              "      <td>80</td>\n",
              "      <td>7.4</td>\n",
              "      <td>51</td>\n",
              "      <td>792200</td>\n",
              "      <td>2002</td>\n",
              "      <td>0</td>\n",
              "      <td>0</td>\n",
              "      <td>0</td>\n",
              "      <td>0</td>\n",
              "      <td>0</td>\n",
              "      <td>1</td>\n",
              "      <td>1</td>\n",
              "      <td>0</td>\n",
              "      <td>0</td>\n",
              "      <td>0</td>\n",
              "      <td>0</td>\n",
              "    </tr>\n",
              "    <tr>\n",
              "      <th>4</th>\n",
              "      <td>Big Trouble</td>\n",
              "      <td>PG13</td>\n",
              "      <td>48</td>\n",
              "      <td>54</td>\n",
              "      <td>6.5</td>\n",
              "      <td>47</td>\n",
              "      <td>7262288</td>\n",
              "      <td>2002</td>\n",
              "      <td>0</td>\n",
              "      <td>0</td>\n",
              "      <td>0</td>\n",
              "      <td>0</td>\n",
              "      <td>1</td>\n",
              "      <td>1</td>\n",
              "      <td>0</td>\n",
              "      <td>0</td>\n",
              "      <td>0</td>\n",
              "      <td>0</td>\n",
              "      <td>0</td>\n",
              "    </tr>\n",
              "  </tbody>\n",
              "</table>\n",
              "</div>"
            ],
            "text/plain": [
              "            Titles Rating  RTCritic  ...  Horror  Mystery  Documentary\n",
              "0  Treasure Planet     PG        69  ...       0        0            0\n",
              "1    About Schmidt      R        85  ...       0        0            0\n",
              "2        Secretary      R        76  ...       0        0            0\n",
              "3     Irreversible     NR        57  ...       0        0            0\n",
              "4      Big Trouble   PG13        48  ...       0        0            0\n",
              "\n",
              "[5 rows x 19 columns]"
            ]
          },
          "metadata": {},
          "execution_count": 11
        }
      ]
    },
    {
      "cell_type": "code",
      "metadata": {
        "colab": {
          "base_uri": "https://localhost:8080/"
        },
        "id": "rDNFs3a5DLic",
        "outputId": "7c4e7073-ebba-4567-b77c-c46310a54c72"
      },
      "source": [
        "#dimensions of the dataset\n",
        "data.shape"
      ],
      "execution_count": 12,
      "outputs": [
        {
          "output_type": "execute_result",
          "data": {
            "text/plain": [
              "(225, 19)"
            ]
          },
          "metadata": {},
          "execution_count": 12
        }
      ]
    },
    {
      "cell_type": "code",
      "metadata": {
        "colab": {
          "base_uri": "https://localhost:8080/"
        },
        "id": "EWgL15u-DLid",
        "outputId": "9b800def-39a5-4418-e31d-d71793c4be53"
      },
      "source": [
        "#checking whether there is any null values\n",
        "data.isnull().sum()"
      ],
      "execution_count": 13,
      "outputs": [
        {
          "output_type": "execute_result",
          "data": {
            "text/plain": [
              "Titles           0\n",
              "Rating           0\n",
              "RTCritic         0\n",
              "RTFan            0\n",
              "IMDb             0\n",
              "Metacritic       0\n",
              "BoxOffice        0\n",
              "Year             0\n",
              "Action           0\n",
              "Animation        0\n",
              "Family           0\n",
              "Scifi            0\n",
              "Comedy           0\n",
              "Drama            0\n",
              "International    0\n",
              "Romance          0\n",
              "Horror           0\n",
              "Mystery          0\n",
              "Documentary      0\n",
              "dtype: int64"
            ]
          },
          "metadata": {},
          "execution_count": 13
        }
      ]
    },
    {
      "cell_type": "code",
      "metadata": {
        "id": "73Fyw8F8DLie"
      },
      "source": [
        "#droping the data column \n",
        "\n",
        "data.drop(['Rating'],axis=1,inplace=True)"
      ],
      "execution_count": 14,
      "outputs": []
    },
    {
      "cell_type": "code",
      "metadata": {
        "colab": {
          "base_uri": "https://localhost:8080/"
        },
        "id": "Fpkuo4fCDLie",
        "outputId": "ecfe8578-0331-4560-f304-838f44e22aff"
      },
      "source": [
        "#dimesions after droping\n",
        "data.shape"
      ],
      "execution_count": 15,
      "outputs": [
        {
          "output_type": "execute_result",
          "data": {
            "text/plain": [
              "(225, 18)"
            ]
          },
          "metadata": {},
          "execution_count": 15
        }
      ]
    },
    {
      "cell_type": "code",
      "metadata": {
        "id": "ClV9_5PEDLie"
      },
      "source": [
        "#x and y \n",
        "Y=data.pop('IMDb')\n",
        "\n",
        "X=data"
      ],
      "execution_count": 17,
      "outputs": []
    },
    {
      "cell_type": "code",
      "metadata": {
        "id": "xAHq69Q0HTaA"
      },
      "source": [
        "#droping the data column \n",
        "\n",
        "data.drop(['Titles'],axis=1,inplace=True)"
      ],
      "execution_count": 19,
      "outputs": []
    },
    {
      "cell_type": "code",
      "metadata": {
        "id": "QshdDcFMDLie"
      },
      "source": [
        "#train test split\n",
        "from sklearn.model_selection import train_test_split\n",
        "\n",
        "X_train, X_test, y_train, y_test = train_test_split(X, Y,train_size=0.7, test_size=0.3, random_state=0)"
      ],
      "execution_count": 20,
      "outputs": []
    },
    {
      "cell_type": "code",
      "metadata": {
        "colab": {
          "base_uri": "https://localhost:8080/"
        },
        "id": "41BBBuArDLif",
        "outputId": "40dd48f1-59c9-4294-ed36-15304c61943c"
      },
      "source": [
        "#performing normal mr\n",
        "from sklearn.linear_model import LinearRegression\n",
        "model = LinearRegression()\n",
        "model.fit(X_train,y_train)"
      ],
      "execution_count": 21,
      "outputs": [
        {
          "output_type": "execute_result",
          "data": {
            "text/plain": [
              "LinearRegression(copy_X=True, fit_intercept=True, n_jobs=None, normalize=False)"
            ]
          },
          "metadata": {},
          "execution_count": 21
        }
      ]
    },
    {
      "cell_type": "code",
      "metadata": {
        "colab": {
          "base_uri": "https://localhost:8080/"
        },
        "id": "UjlvULIJDLif",
        "outputId": "ec72ba3b-0575-431e-ac3f-a432555c3f80"
      },
      "source": [
        "#predicting the result\n",
        "pred = model.predict(X_test)\n",
        "pred"
      ],
      "execution_count": 22,
      "outputs": [
        {
          "output_type": "execute_result",
          "data": {
            "text/plain": [
              "array([6.63623908, 5.46409778, 5.66889368, 7.14646581, 4.56976037,\n",
              "       7.55307244, 5.51045148, 7.58283391, 6.13084899, 8.11357016,\n",
              "       4.84855555, 7.90260019, 7.74410697, 5.37983381, 6.30312716,\n",
              "       6.02768854, 4.6450526 , 6.2938491 , 7.09659518, 6.48589862,\n",
              "       5.14143999, 7.37266164, 5.57503688, 6.57289674, 7.02122859,\n",
              "       4.69084889, 4.70093546, 6.4757857 , 5.74167963, 6.51093739,\n",
              "       5.28783545, 6.55271971, 5.71223055, 6.72356374, 6.50407606,\n",
              "       4.8243387 , 6.69811554, 6.72776142, 6.00273743, 7.66133677,\n",
              "       7.44548268, 6.25617582, 5.18047623, 6.09880493, 7.64463257,\n",
              "       5.75234096, 5.58955686, 7.36703121, 5.74608932, 4.93639789,\n",
              "       7.08665441, 4.91656196, 4.92284355, 6.68585552, 5.45386152,\n",
              "       8.04265266, 7.64584364, 5.95693508, 7.55412742, 4.62169594,\n",
              "       4.89923201, 7.65151787, 5.93680469, 5.631358  , 6.10073011,\n",
              "       6.21963443, 6.47339492, 5.62161319])"
            ]
          },
          "metadata": {},
          "execution_count": 22
        }
      ]
    },
    {
      "cell_type": "code",
      "metadata": {
        "id": "GYmFxaHsDLif"
      },
      "source": [
        "#y_test\n",
        "#y_test.shape--->3082"
      ],
      "execution_count": 23,
      "outputs": []
    },
    {
      "cell_type": "code",
      "metadata": {
        "colab": {
          "base_uri": "https://localhost:8080/"
        },
        "id": "dZOigJ3-DLif",
        "outputId": "7c638849-d2f2-4e2f-9015-29a7b2c810a5"
      },
      "source": [
        "#score\n",
        "np.round(model.score(X_test,y_test),4)"
      ],
      "execution_count": 24,
      "outputs": [
        {
          "output_type": "execute_result",
          "data": {
            "text/plain": [
              "0.7695"
            ]
          },
          "metadata": {},
          "execution_count": 24
        }
      ]
    },
    {
      "cell_type": "code",
      "metadata": {
        "colab": {
          "base_uri": "https://localhost:8080/"
        },
        "id": "bURuVDyyDLig",
        "outputId": "9dce4be7-657d-4319-e3b9-0da330c5d1b8"
      },
      "source": [
        "#error\n",
        "from sklearn.metrics import mean_squared_error\n",
        "np.round(mean_squared_error(y_test,pred,squared=False),4)"
      ],
      "execution_count": 25,
      "outputs": [
        {
          "output_type": "execute_result",
          "data": {
            "text/plain": [
              "0.459"
            ]
          },
          "metadata": {},
          "execution_count": 25
        }
      ]
    },
    {
      "cell_type": "code",
      "metadata": {
        "colab": {
          "base_uri": "https://localhost:8080/"
        },
        "id": "_B9HMTRhDLig",
        "outputId": "1d6670f0-9f07-4271-9f1d-69a288d6f943"
      },
      "source": [
        "#mse\n",
        "from sklearn.metrics import mean_squared_error\n",
        "np.round(mean_squared_error(y_test,pred),4)"
      ],
      "execution_count": 26,
      "outputs": [
        {
          "output_type": "execute_result",
          "data": {
            "text/plain": [
              "0.2107"
            ]
          },
          "metadata": {},
          "execution_count": 26
        }
      ]
    },
    {
      "cell_type": "code",
      "metadata": {
        "colab": {
          "base_uri": "https://localhost:8080/"
        },
        "id": "X6U5ihUUDLig",
        "outputId": "7ec09ff4-0531-42bf-c603-f2865a602b9d"
      },
      "source": [
        "#mae\n",
        "from sklearn.metrics import mean_absolute_error\n",
        "np.round(mean_absolute_error(y_test,pred),4)"
      ],
      "execution_count": 27,
      "outputs": [
        {
          "output_type": "execute_result",
          "data": {
            "text/plain": [
              "0.3599"
            ]
          },
          "metadata": {},
          "execution_count": 27
        }
      ]
    },
    {
      "cell_type": "code",
      "metadata": {
        "colab": {
          "base_uri": "https://localhost:8080/"
        },
        "id": "6lHKurE2DLih",
        "outputId": "05e43cbd-d49b-4b48-8fb1-d3e8e6a7d68f"
      },
      "source": [
        "#intercept\n",
        "model.intercept_"
      ],
      "execution_count": 28,
      "outputs": [
        {
          "output_type": "execute_result",
          "data": {
            "text/plain": [
              "-4.634579054067551"
            ]
          },
          "metadata": {},
          "execution_count": 28
        }
      ]
    },
    {
      "cell_type": "code",
      "metadata": {
        "colab": {
          "base_uri": "https://localhost:8080/"
        },
        "id": "sGkSCxrJDLih",
        "outputId": "bf43e827-e560-4052-bff3-87139ff00a70"
      },
      "source": [
        "#coefficients \n",
        "model.coef_"
      ],
      "execution_count": 29,
      "outputs": [
        {
          "output_type": "execute_result",
          "data": {
            "text/plain": [
              "array([ 8.70299192e-03,  3.01363706e-02,  1.38405821e-02, -4.72606520e-10,\n",
              "        4.00117490e-03,  3.86506231e-02,  2.95177969e-01, -2.16179562e-01,\n",
              "        2.05597614e-01, -1.23439800e-01, -7.71138329e-03, -5.25586228e-03,\n",
              "        1.35586885e-01,  5.35092098e-03,  1.21257525e-01, -2.53525432e-02])"
            ]
          },
          "metadata": {},
          "execution_count": 29
        }
      ]
    },
    {
      "cell_type": "code",
      "metadata": {
        "colab": {
          "base_uri": "https://localhost:8080/"
        },
        "id": "Fv8yJYSnDLih",
        "outputId": "ef3fab6b-6f46-4fc0-bcde-3878d72984c3"
      },
      "source": [
        "#regularization :ridge\n",
        "from sklearn.linear_model import Ridge\n",
        "model1 = Ridge(alpha=0.50)\n",
        "model1.fit(X_train,y_train)"
      ],
      "execution_count": 30,
      "outputs": [
        {
          "output_type": "stream",
          "name": "stderr",
          "text": [
            "/usr/local/lib/python3.7/dist-packages/sklearn/linear_model/_ridge.py:148: LinAlgWarning: Ill-conditioned matrix (rcond=3.25726e-18): result may not be accurate.\n",
            "  overwrite_a=True).T\n"
          ]
        },
        {
          "output_type": "execute_result",
          "data": {
            "text/plain": [
              "Ridge(alpha=0.5, copy_X=True, fit_intercept=True, max_iter=None,\n",
              "      normalize=False, random_state=None, solver='auto', tol=0.001)"
            ]
          },
          "metadata": {},
          "execution_count": 30
        }
      ]
    },
    {
      "cell_type": "code",
      "metadata": {
        "colab": {
          "base_uri": "https://localhost:8080/"
        },
        "id": "GtaLJIsLDLii",
        "outputId": "f82b4d99-6b25-445c-da2a-36b589a4ad5a"
      },
      "source": [
        "#predicting coefficents\n",
        "pred1 = model1.predict(X_test)\n",
        "pred1"
      ],
      "execution_count": 31,
      "outputs": [
        {
          "output_type": "execute_result",
          "data": {
            "text/plain": [
              "array([6.63710861, 5.46615248, 5.67106961, 7.14239963, 4.57107235,\n",
              "       7.55926117, 5.51285445, 7.58312787, 6.13265119, 8.11351271,\n",
              "       4.841445  , 7.90424934, 7.73895029, 5.37488125, 6.33341983,\n",
              "       6.02853889, 4.64670927, 6.2914161 , 7.09832594, 6.48605849,\n",
              "       5.14467577, 7.37202323, 5.56926425, 6.57173116, 7.02171382,\n",
              "       4.69300951, 4.70242118, 6.47750111, 5.73647341, 6.51282918,\n",
              "       5.28533767, 6.55381765, 5.71283117, 6.71849806, 6.49945992,\n",
              "       4.8499981 , 6.6992201 , 6.72886069, 6.00404529, 7.66156798,\n",
              "       7.43803458, 6.25648807, 5.181765  , 6.09895053, 7.6446085 ,\n",
              "       5.75440449, 5.58604242, 7.36343806, 5.74662503, 4.93980273,\n",
              "       7.08653065, 4.91442112, 4.92455248, 6.68243586, 5.45458625,\n",
              "       8.03055613, 7.64509776, 5.94494205, 7.55402176, 4.62360799,\n",
              "       4.89805616, 7.65427963, 5.93791184, 5.63322455, 6.09573053,\n",
              "       6.21511864, 6.50303424, 5.61666445])"
            ]
          },
          "metadata": {},
          "execution_count": 31
        }
      ]
    },
    {
      "cell_type": "code",
      "metadata": {
        "colab": {
          "base_uri": "https://localhost:8080/"
        },
        "id": "X4hgrwOEDLii",
        "outputId": "2fba15cd-3b74-4577-f407-e10bc50e5654"
      },
      "source": [
        "#score\n",
        "np.round(model1.score(X_test,y_test),4)"
      ],
      "execution_count": 32,
      "outputs": [
        {
          "output_type": "execute_result",
          "data": {
            "text/plain": [
              "0.7691"
            ]
          },
          "metadata": {},
          "execution_count": 32
        }
      ]
    },
    {
      "cell_type": "code",
      "metadata": {
        "colab": {
          "base_uri": "https://localhost:8080/"
        },
        "id": "IYXKzJT8DLii",
        "outputId": "ccd77499-def1-4dce-98df-6fd06b3352a1"
      },
      "source": [
        "#error\n",
        "np.round(mean_squared_error(y_test,pred1,squared = False),4)"
      ],
      "execution_count": 33,
      "outputs": [
        {
          "output_type": "execute_result",
          "data": {
            "text/plain": [
              "0.4594"
            ]
          },
          "metadata": {},
          "execution_count": 33
        }
      ]
    },
    {
      "cell_type": "code",
      "metadata": {
        "colab": {
          "base_uri": "https://localhost:8080/"
        },
        "id": "ZdY30nFODLii",
        "outputId": "78abcb84-99a8-4f6a-ff86-1bd154cc9213"
      },
      "source": [
        "#mse\n",
        "np.round(mean_squared_error(y_test,pred1),4)"
      ],
      "execution_count": 34,
      "outputs": [
        {
          "output_type": "execute_result",
          "data": {
            "text/plain": [
              "0.211"
            ]
          },
          "metadata": {},
          "execution_count": 34
        }
      ]
    },
    {
      "cell_type": "code",
      "metadata": {
        "colab": {
          "base_uri": "https://localhost:8080/"
        },
        "id": "IDr8tjq9DLij",
        "outputId": "246d1b1a-b207-464d-f386-619bee9159cf"
      },
      "source": [
        "#mae\n",
        "np.round(mean_absolute_error(y_test,pred1),4)"
      ],
      "execution_count": 35,
      "outputs": [
        {
          "output_type": "execute_result",
          "data": {
            "text/plain": [
              "0.3603"
            ]
          },
          "metadata": {},
          "execution_count": 35
        }
      ]
    },
    {
      "cell_type": "code",
      "metadata": {
        "id": "0lcAzzYDDLij"
      },
      "source": [
        "model2 = Ridge()"
      ],
      "execution_count": 36,
      "outputs": []
    },
    {
      "cell_type": "code",
      "metadata": {
        "colab": {
          "base_uri": "https://localhost:8080/"
        },
        "id": "T8K2e6kHDLij",
        "outputId": "131665e7-5da2-482f-f389-2b0bb4d8c5f8"
      },
      "source": [
        "#negative mae\n",
        "from sklearn.model_selection import GridSearchCV\n",
        "from numpy import arange\n",
        "grid = dict()\n",
        "grid['alpha'] = arange(0, 1, 0.01)\n",
        "# define search\n",
        "search = GridSearchCV(model2, grid, scoring='neg_mean_absolute_error', n_jobs=-1)\n",
        "results = search.fit(X_train, y_train)"
      ],
      "execution_count": 37,
      "outputs": [
        {
          "output_type": "stream",
          "name": "stderr",
          "text": [
            "/usr/local/lib/python3.7/dist-packages/sklearn/linear_model/_ridge.py:148: LinAlgWarning: Ill-conditioned matrix (rcond=3.83059e-18): result may not be accurate.\n",
            "  overwrite_a=True).T\n"
          ]
        }
      ]
    },
    {
      "cell_type": "code",
      "metadata": {
        "colab": {
          "base_uri": "https://localhost:8080/"
        },
        "id": "Dy2sA-ZdDLij",
        "outputId": "fb409dcb-1a69-4490-da6e-05c8fa7ee84c"
      },
      "source": [
        "results"
      ],
      "execution_count": 38,
      "outputs": [
        {
          "output_type": "execute_result",
          "data": {
            "text/plain": [
              "GridSearchCV(cv=None, error_score=nan,\n",
              "             estimator=Ridge(alpha=1.0, copy_X=True, fit_intercept=True,\n",
              "                             max_iter=None, normalize=False, random_state=None,\n",
              "                             solver='auto', tol=0.001),\n",
              "             iid='deprecated', n_jobs=-1,\n",
              "             param_grid={'alpha': array([0.  , 0.01, 0.02, 0.03, 0.04, 0.05, 0.06, 0.07, 0.08, 0.09, 0.1 ,\n",
              "       0.11, 0.12, 0.13, 0.14, 0.15, 0.16, 0.17, 0.18, 0.19, 0.2 , 0.21,\n",
              "       0.22, 0.23, 0.24, 0.25, 0.2...\n",
              "       0.44, 0.45, 0.46, 0.47, 0.48, 0.49, 0.5 , 0.51, 0.52, 0.53, 0.54,\n",
              "       0.55, 0.56, 0.57, 0.58, 0.59, 0.6 , 0.61, 0.62, 0.63, 0.64, 0.65,\n",
              "       0.66, 0.67, 0.68, 0.69, 0.7 , 0.71, 0.72, 0.73, 0.74, 0.75, 0.76,\n",
              "       0.77, 0.78, 0.79, 0.8 , 0.81, 0.82, 0.83, 0.84, 0.85, 0.86, 0.87,\n",
              "       0.88, 0.89, 0.9 , 0.91, 0.92, 0.93, 0.94, 0.95, 0.96, 0.97, 0.98,\n",
              "       0.99])},\n",
              "             pre_dispatch='2*n_jobs', refit=True, return_train_score=False,\n",
              "             scoring='neg_mean_absolute_error', verbose=0)"
            ]
          },
          "metadata": {},
          "execution_count": 38
        }
      ]
    },
    {
      "cell_type": "code",
      "metadata": {
        "colab": {
          "base_uri": "https://localhost:8080/"
        },
        "id": "86iQV2dEDLij",
        "outputId": "62ed6d95-6a22-4d49-b433-1bfbfd672f9e"
      },
      "source": [
        "print('MAE: %.3f' % results.best_score_)\n",
        "print('Config: %s' % results.best_params_)"
      ],
      "execution_count": 39,
      "outputs": [
        {
          "output_type": "stream",
          "name": "stdout",
          "text": [
            "MAE: -0.357\n",
            "Config: {'alpha': 0.99}\n"
          ]
        }
      ]
    },
    {
      "cell_type": "code",
      "metadata": {
        "id": "Xo8UMueGDLik"
      },
      "source": [
        "pred3 = search.predict(X_test)"
      ],
      "execution_count": 40,
      "outputs": []
    },
    {
      "cell_type": "code",
      "metadata": {
        "colab": {
          "base_uri": "https://localhost:8080/"
        },
        "id": "OPwMtbctDLik",
        "outputId": "222ecdd2-60e2-4d51-8a0b-9a3e4388afd9"
      },
      "source": [
        "#error\n",
        "np.round(mean_squared_error(y_test,pred3,squared = False),4)"
      ],
      "execution_count": 41,
      "outputs": [
        {
          "output_type": "execute_result",
          "data": {
            "text/plain": [
              "0.4596"
            ]
          },
          "metadata": {},
          "execution_count": 41
        }
      ]
    },
    {
      "cell_type": "code",
      "metadata": {
        "colab": {
          "base_uri": "https://localhost:8080/"
        },
        "id": "27DbbDqlDLik",
        "outputId": "28b43b83-8583-464a-dc81-2c1808272dcf"
      },
      "source": [
        "#score\n",
        "np.round(search.score(X_test,y_test),4)"
      ],
      "execution_count": 42,
      "outputs": [
        {
          "output_type": "execute_result",
          "data": {
            "text/plain": [
              "-0.3606"
            ]
          },
          "metadata": {},
          "execution_count": 42
        }
      ]
    },
    {
      "cell_type": "code",
      "metadata": {
        "colab": {
          "base_uri": "https://localhost:8080/"
        },
        "id": "Yv-MrFkPDLik",
        "outputId": "399e2c60-9a70-4167-e9bd-b089bb16f4bf"
      },
      "source": [
        "#mse\n",
        "np.round(mean_squared_error(y_test,pred3),4)"
      ],
      "execution_count": 43,
      "outputs": [
        {
          "output_type": "execute_result",
          "data": {
            "text/plain": [
              "0.2113"
            ]
          },
          "metadata": {},
          "execution_count": 43
        }
      ]
    },
    {
      "cell_type": "code",
      "metadata": {
        "colab": {
          "base_uri": "https://localhost:8080/"
        },
        "id": "2XdTJcrWDLik",
        "outputId": "f1a44ca0-a79c-4d4c-d24f-e9bce15ecbf9"
      },
      "source": [
        "#mae\n",
        "np.round(mean_absolute_error(y_test,pred3),4)"
      ],
      "execution_count": 44,
      "outputs": [
        {
          "output_type": "execute_result",
          "data": {
            "text/plain": [
              "0.3606"
            ]
          },
          "metadata": {},
          "execution_count": 44
        }
      ]
    },
    {
      "cell_type": "code",
      "metadata": {
        "colab": {
          "base_uri": "https://localhost:8080/",
          "height": 204
        },
        "id": "m1XucU8gDLil",
        "outputId": "cc1a8ca2-2f04-41f3-f00b-a20b3827cf43"
      },
      "source": [
        "# implementation of Principal Compoenet Analysis (PCA)\n",
        "from sklearn.decomposition import PCA\n",
        "pca = PCA(n_components=5)\n",
        "df = pca.fit_transform(X)\n",
        "data1 = pd.DataFrame(data = df,columns = ['value1','value2','value3','value4','value5'])\n",
        "data1.head()"
      ],
      "execution_count": 45,
      "outputs": [
        {
          "output_type": "execute_result",
          "data": {
            "text/html": [
              "<div>\n",
              "<style scoped>\n",
              "    .dataframe tbody tr th:only-of-type {\n",
              "        vertical-align: middle;\n",
              "    }\n",
              "\n",
              "    .dataframe tbody tr th {\n",
              "        vertical-align: top;\n",
              "    }\n",
              "\n",
              "    .dataframe thead th {\n",
              "        text-align: right;\n",
              "    }\n",
              "</style>\n",
              "<table border=\"1\" class=\"dataframe\">\n",
              "  <thead>\n",
              "    <tr style=\"text-align: right;\">\n",
              "      <th></th>\n",
              "      <th>value1</th>\n",
              "      <th>value2</th>\n",
              "      <th>value3</th>\n",
              "      <th>value4</th>\n",
              "      <th>value5</th>\n",
              "    </tr>\n",
              "  </thead>\n",
              "  <tbody>\n",
              "    <tr>\n",
              "      <th>0</th>\n",
              "      <td>-2.666443e+07</td>\n",
              "      <td>-24.291434</td>\n",
              "      <td>2.525027</td>\n",
              "      <td>2.279527</td>\n",
              "      <td>7.141782</td>\n",
              "    </tr>\n",
              "    <tr>\n",
              "      <th>1</th>\n",
              "      <td>2.202317e+05</td>\n",
              "      <td>-47.319049</td>\n",
              "      <td>-6.878027</td>\n",
              "      <td>-10.092408</td>\n",
              "      <td>6.363922</td>\n",
              "    </tr>\n",
              "    <tr>\n",
              "      <th>2</th>\n",
              "      <td>-6.073825e+07</td>\n",
              "      <td>-39.791369</td>\n",
              "      <td>10.690541</td>\n",
              "      <td>2.818629</td>\n",
              "      <td>6.927414</td>\n",
              "    </tr>\n",
              "    <tr>\n",
              "      <th>3</th>\n",
              "      <td>-6.399279e+07</td>\n",
              "      <td>-19.023318</td>\n",
              "      <td>18.713367</td>\n",
              "      <td>2.583549</td>\n",
              "      <td>6.619130</td>\n",
              "    </tr>\n",
              "    <tr>\n",
              "      <th>4</th>\n",
              "      <td>-5.752270e+07</td>\n",
              "      <td>1.741252</td>\n",
              "      <td>-0.595162</td>\n",
              "      <td>2.675371</td>\n",
              "      <td>7.263411</td>\n",
              "    </tr>\n",
              "  </tbody>\n",
              "</table>\n",
              "</div>"
            ],
            "text/plain": [
              "         value1     value2     value3     value4    value5\n",
              "0 -2.666443e+07 -24.291434   2.525027   2.279527  7.141782\n",
              "1  2.202317e+05 -47.319049  -6.878027 -10.092408  6.363922\n",
              "2 -6.073825e+07 -39.791369  10.690541   2.818629  6.927414\n",
              "3 -6.399279e+07 -19.023318  18.713367   2.583549  6.619130\n",
              "4 -5.752270e+07   1.741252  -0.595162   2.675371  7.263411"
            ]
          },
          "metadata": {},
          "execution_count": 45
        }
      ]
    },
    {
      "cell_type": "code",
      "metadata": {
        "colab": {
          "base_uri": "https://localhost:8080/"
        },
        "id": "YI2PmnX6DLil",
        "outputId": "72084cd4-3b4f-4f78-99f2-2901bc458fbb"
      },
      "source": [
        "data1.shape"
      ],
      "execution_count": 46,
      "outputs": [
        {
          "output_type": "execute_result",
          "data": {
            "text/plain": [
              "(225, 5)"
            ]
          },
          "metadata": {},
          "execution_count": 46
        }
      ]
    },
    {
      "cell_type": "code",
      "metadata": {
        "colab": {
          "base_uri": "https://localhost:8080/"
        },
        "id": "W0yL6W0zDLil",
        "outputId": "81cc0588-78da-473f-c2c7-b8a5b6a8e1c1"
      },
      "source": [
        "pca.explained_variance_ratio_"
      ],
      "execution_count": 47,
      "outputs": [
        {
          "output_type": "execute_result",
          "data": {
            "text/plain": [
              "array([1.00000000e+00, 1.81035948e-13, 2.26542749e-14, 3.93419377e-15,\n",
              "       3.05488594e-15])"
            ]
          },
          "metadata": {},
          "execution_count": 47
        }
      ]
    },
    {
      "cell_type": "code",
      "metadata": {
        "colab": {
          "base_uri": "https://localhost:8080/"
        },
        "id": "XjZrWcT7DLil",
        "outputId": "4345f6e2-ed5d-4721-8b31-ac4f05647e7c"
      },
      "source": [
        "pca.components_"
      ],
      "execution_count": 48,
      "outputs": [
        {
          "output_type": "execute_result",
          "data": {
            "text/plain": [
              "array([[ 7.36439869e-08,  5.95655477e-08,  4.24639668e-08,\n",
              "         1.00000000e+00,  6.67993380e-10,  2.10895787e-09,\n",
              "         4.95271430e-10,  8.22423022e-10,  2.08002945e-09,\n",
              "        -3.68778036e-10, -1.84271761e-09, -2.04579902e-10,\n",
              "        -2.70416989e-10, -3.22735619e-10, -4.09320242e-11,\n",
              "        -2.04197653e-11],\n",
              "       [-7.68192081e-01, -4.34868125e-01, -4.69830494e-01,\n",
              "         1.02414742e-07, -2.53725611e-04,  1.21100470e-03,\n",
              "        -4.43673661e-04, -3.16931384e-04,  2.01565113e-03,\n",
              "         1.61972645e-03, -3.84629191e-03, -6.96391341e-04,\n",
              "         3.68770086e-04,  1.74467950e-03,  1.64595599e-03,\n",
              "        -5.14841854e-04],\n",
              "       [-3.30371779e-01,  8.97398906e-01, -2.90517481e-01,\n",
              "        -1.67539689e-08, -3.19608496e-02,  9.71602323e-04,\n",
              "        -1.38467445e-03, -1.96530243e-03, -1.98465080e-03,\n",
              "        -2.78351083e-03,  5.08089664e-03,  3.89786181e-04,\n",
              "         2.95958200e-03, -3.07207380e-03, -6.69634849e-03,\n",
              "        -6.09978740e-04],\n",
              "       [ 5.44946080e-01, -6.49490102e-02, -8.30735624e-01,\n",
              "        -1.10575041e-09,  8.97533049e-02,  7.70889768e-03,\n",
              "        -2.34260790e-03, -2.40771454e-03,  5.89769367e-03,\n",
              "        -7.29627060e-03, -1.70044844e-02,  8.29611862e-04,\n",
              "        -9.27505265e-03,  8.23864929e-03,  5.96506629e-03,\n",
              "        -9.20851487e-05],\n",
              "       [ 6.00104981e-02, -3.44405845e-02, -6.56365084e-02,\n",
              "         1.09314071e-09, -9.95078559e-01,  3.08696846e-04,\n",
              "         6.49033516e-03,  9.36402958e-03, -5.72571101e-03,\n",
              "         2.19241317e-02, -2.28630333e-04,  2.62216043e-03,\n",
              "        -8.77597813e-04,  1.57153097e-03,  8.01369084e-03,\n",
              "         2.31388808e-03]])"
            ]
          },
          "metadata": {},
          "execution_count": 48
        }
      ]
    },
    {
      "cell_type": "code",
      "metadata": {
        "id": "rHrvW3UrDLil"
      },
      "source": [
        "model3 = LinearRegression()"
      ],
      "execution_count": 49,
      "outputs": []
    },
    {
      "cell_type": "code",
      "metadata": {
        "id": "3WjYrOqmDLim"
      },
      "source": [
        "X_train1,X_test1,y_train1,y_test1 = train_test_split(data1, Y, test_size=0.20, random_state=0)"
      ],
      "execution_count": 50,
      "outputs": []
    },
    {
      "cell_type": "code",
      "metadata": {
        "colab": {
          "base_uri": "https://localhost:8080/"
        },
        "id": "rf6CLi5lDLim",
        "outputId": "424a2cf3-342e-4782-b712-1d45c02cb994"
      },
      "source": [
        "model3.fit(X_train1,y_train1)"
      ],
      "execution_count": 51,
      "outputs": [
        {
          "output_type": "execute_result",
          "data": {
            "text/plain": [
              "LinearRegression(copy_X=True, fit_intercept=True, n_jobs=None, normalize=False)"
            ]
          },
          "metadata": {},
          "execution_count": 51
        }
      ]
    },
    {
      "cell_type": "code",
      "metadata": {
        "colab": {
          "base_uri": "https://localhost:8080/"
        },
        "id": "46MF0iwIDLim",
        "outputId": "83556bc0-dfa8-4e1b-84d6-a85a16953763"
      },
      "source": [
        "pred4 = model3.predict(X_test1)\n",
        "pred4"
      ],
      "execution_count": 52,
      "outputs": [
        {
          "output_type": "execute_result",
          "data": {
            "text/plain": [
              "array([6.74415145, 5.37218525, 5.73922425, 7.12348552, 4.80435648,\n",
              "       7.51222226, 5.45653106, 7.52575434, 6.33180156, 8.07928273,\n",
              "       4.72318958, 7.82542247, 7.59346557, 5.42006123, 6.38785979,\n",
              "       6.25070628, 4.90854268, 6.17090295, 7.20214155, 6.62395497,\n",
              "       5.26123131, 7.49392838, 5.37494761, 6.52945953, 7.07935727,\n",
              "       5.05624855, 4.94304433, 6.51304445, 5.86867937, 6.56423806,\n",
              "       5.3004739 , 6.65229785, 5.66871499, 6.75333992, 6.4277885 ,\n",
              "       5.00158968, 6.56532694, 6.76889844, 5.98964172, 7.63289833,\n",
              "       7.25557272, 6.47468957, 5.42512963, 6.25117109, 7.59100235])"
            ]
          },
          "metadata": {},
          "execution_count": 52
        }
      ]
    },
    {
      "cell_type": "code",
      "metadata": {
        "colab": {
          "base_uri": "https://localhost:8080/"
        },
        "id": "EGYKyB_oDLim",
        "outputId": "f2af7534-75a5-48ec-be12-f522beda8de5"
      },
      "source": [
        "y_test1"
      ],
      "execution_count": 53,
      "outputs": [
        {
          "output_type": "execute_result",
          "data": {
            "text/plain": [
              "111    6.6\n",
              "101    6.0\n",
              "197    6.2\n",
              "183    7.4\n",
              "75     2.9\n",
              "64     7.5\n",
              "145    5.9\n",
              "137    7.4\n",
              "207    6.6\n",
              "168    8.0\n",
              "143    5.2\n",
              "166    8.1\n",
              "107    7.3\n",
              "8      5.8\n",
              "126    6.3\n",
              "156    6.2\n",
              "108    5.3\n",
              "5      6.7\n",
              "44     7.3\n",
              "139    6.3\n",
              "176    5.3\n",
              "153    6.4\n",
              "187    6.2\n",
              "179    6.7\n",
              "106    6.9\n",
              "125    5.5\n",
              "97     3.8\n",
              "37     6.7\n",
              "12     6.1\n",
              "202    6.8\n",
              "161    5.6\n",
              "134    6.0\n",
              "104    6.1\n",
              "55     6.6\n",
              "89     6.2\n",
              "18     4.9\n",
              "15     6.5\n",
              "149    6.9\n",
              "7      6.1\n",
              "159    7.7\n",
              "178    7.0\n",
              "90     6.8\n",
              "144    5.7\n",
              "92     6.5\n",
              "63     7.4\n",
              "Name: IMDb, dtype: float64"
            ]
          },
          "metadata": {},
          "execution_count": 53
        }
      ]
    },
    {
      "cell_type": "code",
      "metadata": {
        "colab": {
          "base_uri": "https://localhost:8080/"
        },
        "id": "n-y8yr0mDLim",
        "outputId": "a078d2ed-0622-4a98-e453-dce8517a5a43"
      },
      "source": [
        "np.round(mean_squared_error(y_test1,pred4,squared = False),4)"
      ],
      "execution_count": 54,
      "outputs": [
        {
          "output_type": "execute_result",
          "data": {
            "text/plain": [
              "0.4824"
            ]
          },
          "metadata": {},
          "execution_count": 54
        }
      ]
    },
    {
      "cell_type": "code",
      "metadata": {
        "colab": {
          "base_uri": "https://localhost:8080/"
        },
        "id": "m5d5G_QRDLim",
        "outputId": "6867b3ad-0f9f-49f7-d31d-0773524e8352"
      },
      "source": [
        "np.round(model3.score(X_test1,y_test1),4)"
      ],
      "execution_count": 55,
      "outputs": [
        {
          "output_type": "execute_result",
          "data": {
            "text/plain": [
              "0.7557"
            ]
          },
          "metadata": {},
          "execution_count": 55
        }
      ]
    },
    {
      "cell_type": "code",
      "metadata": {
        "colab": {
          "base_uri": "https://localhost:8080/"
        },
        "id": "WEjS0A_aDLim",
        "outputId": "867c2e6d-38c9-4fd5-d330-d15482819049"
      },
      "source": [
        "np.round(mean_squared_error(y_test,pred3),3)\n"
      ],
      "execution_count": 56,
      "outputs": [
        {
          "output_type": "execute_result",
          "data": {
            "text/plain": [
              "0.211"
            ]
          },
          "metadata": {},
          "execution_count": 56
        }
      ]
    },
    {
      "cell_type": "code",
      "metadata": {
        "colab": {
          "base_uri": "https://localhost:8080/"
        },
        "id": "CIERIaxCDLin",
        "outputId": "7be296dc-89b4-4c34-a69d-a8d042d406b1"
      },
      "source": [
        "np.round(mean_absolute_error(y_test,pred3),4)"
      ],
      "execution_count": 57,
      "outputs": [
        {
          "output_type": "execute_result",
          "data": {
            "text/plain": [
              "0.3606"
            ]
          },
          "metadata": {},
          "execution_count": 57
        }
      ]
    }
  ]
}